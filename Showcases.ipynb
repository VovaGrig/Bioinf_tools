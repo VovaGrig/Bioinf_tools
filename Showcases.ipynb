{
 "cells": [
  {
   "cell_type": "markdown",
   "metadata": {},
   "source": [
    "# RandomForestClassifierCustom"
   ]
  },
  {
   "cell_type": "code",
   "execution_count": 22,
   "metadata": {},
   "outputs": [],
   "source": [
    "from sklearn.datasets import make_classification\n",
    "from custom_random_forest import RandomForestClassifierCustom\n",
    "from bio_files_processor import MeasureTime\n",
    "\n",
    "\n",
    "X, y = make_classification(n_samples=100000)\n",
    "random_forest_1_job = RandomForestClassifierCustom(\n",
    "    max_depth=30, n_estimators=10, max_features=2, random_state=42\n",
    ")\n",
    "random_forest_2_job = RandomForestClassifierCustom(\n",
    "    max_depth=30, n_estimators=10, max_features=2, random_state=42\n",
    ")"
   ]
  },
  {
   "cell_type": "code",
   "execution_count": 23,
   "metadata": {},
   "outputs": [
    {
     "name": "stdout",
     "output_type": "stream",
     "text": [
      "RF fitting time with one job:\n",
      "The program block took 8.314451694488525 seconds to complete\n",
      "\n",
      "RF fitting time with two jobs:\n",
      "The program block took 6.0656726360321045 seconds to complete\n"
     ]
    }
   ],
   "source": [
    "print(\"RF fitting time with one job:\")\n",
    "with MeasureTime():\n",
    "    random_forest_1_job.fit(X, y, n_jobs=1)\n",
    "print(\"\\nRF fitting time with two jobs:\")\n",
    "with MeasureTime():\n",
    "    random_forest_2_job.fit(X, y, n_jobs=2)"
   ]
  },
  {
   "cell_type": "code",
   "execution_count": 24,
   "metadata": {},
   "outputs": [
    {
     "name": "stdout",
     "output_type": "stream",
     "text": [
      "RF predict time with one job:\n",
      "The program block took 2.8008508682250977 seconds to complete\n",
      "\n",
      "RF predict time with two jobs:\n",
      "The program block took 0.5011236667633057 seconds to complete\n"
     ]
    }
   ],
   "source": [
    "print(\"RF predict time with one job:\")\n",
    "with MeasureTime():\n",
    "    y_pred_1_job = random_forest_1_job.predict(X)\n",
    "print(\"\\nRF predict time with two jobs:\")\n",
    "with MeasureTime():\n",
    "    y_pred_2_job = random_forest_2_job.predict(X)"
   ]
  },
  {
   "cell_type": "code",
   "execution_count": 25,
   "metadata": {},
   "outputs": [
    {
     "data": {
      "text/plain": [
       "True"
      ]
     },
     "execution_count": 25,
     "metadata": {},
     "output_type": "execute_result"
    }
   ],
   "source": [
    "all(y_pred_1_job == y_pred_2_job)"
   ]
  },
  {
   "cell_type": "markdown",
   "metadata": {},
   "source": [
    "# OpenFasta"
   ]
  },
  {
   "cell_type": "code",
   "execution_count": 26,
   "metadata": {},
   "outputs": [],
   "source": [
    "from bio_files_processor import OpenFasta"
   ]
  },
  {
   "cell_type": "code",
   "execution_count": 27,
   "metadata": {},
   "outputs": [
    {
     "name": "stdout",
     "output_type": "stream",
     "text": [
      "ID: >GTD323452,\n",
      " Description: 5S_rRNA NODE_272_length_223_cov_0.720238:18-129(+),\n",
      " Sequence:ACGGCCATAGGACTTTGAAAGCACCGCATCCCGTCCGATCTGCGAAGTTAACCAAGATGCCGCCTGGTTAGTACCATGGTGGGGGACCACATGGGAATCCCTGGTGCTGTG\n",
      "\n",
      "ID: >GTD678345,\n",
      " Description: 16S_rRNA NODE_80_length_720_cov_1.094737:313-719(+),\n",
      " Sequence:TTGGCTTCTTAGAGGGACTTTTGATGTTTAATCAAAGGAAGTTTGAGGCAATAACAGGTCTGTGATGCCCTTAGATGTTCTGGGCCGCACGCGCGCTACACTGAGCCCTTGGGAGTGGTCCATTTGAGCCGGCAACGGCACGTTTGGACTGCAAACTTGGGCAAACTTGGTCATTTAGAGGAAGTAAAAGTCGTAACAAGGT\n",
      "\n",
      "ID: >GTD174893,\n",
      " Description: 16S_rRNA NODE_1_length_2558431_cov_75.185164:2153860-2155398(+),\n",
      " Sequence:TTGAAGAGTTTGATCATGGCTCAGATTGAACGCTGGCGGCAGGCCTAACACATGCAAGTCGAACGGTAACAGGAAACAGCTTGCTGTTTCGCTGACGAGTGGGAAGTAGGTAGCTTAACCTTCGGGAGGGCGCTTACCACTTTGTGATTCATGACTGGGGTGAAGTCGTAACAAGGTAACCGTAGGGGAACCTGCGGTTGGATCACCTCCTT\n",
      "\n",
      "ID: >GTD906783,\n",
      " Description: 16S_rRNA NODE_1_length_2558431_cov_75.185164:793941-795479(-),\n",
      " Sequence:TTGAAGAGTTTGATCATGGCTCAGATTGAACGCTGGCGGCAGGCCTAACACATGCAAGTCGAACGGTAACAGGAAACAGCTTGCTGTTTCGCTGACGAGTGGGAAGTAGGTAGCTTAACCTTCGGGAGGGCGCTTACCACTTTGTGATTCATGACTGGGGTGAAGTCGTAACAAGGTAACCGTAGGGGAACCTGCGGTTGGATCACCTCCTT\n",
      "\n",
      "ID: >GTD129563,\n",
      " Description: 16S_rRNA NODE_4_length_428221_cov_75.638017:281055-282593(-),\n",
      " Sequence:CGGACGGGTGAGTAATGTCTGGGAAACTGCCTGATGGAGGGGGATAACTACTGGAAACGGTAGCTAATACCGCATAACGTCGCAAGACCAAAGAGGGGGACCGAAGTAGGTAGCTTAACCTTCGGGAGGGCGCTTACCACTTTGTGATTCATGACTGGGGTGAAGTCGTAACAAGGTAACCGTAGGGGAACCTGCGGTTGGATCACCTCCTT\n",
      "\n"
     ]
    }
   ],
   "source": [
    "with OpenFasta(\"data/example_fasta.fasta\") as f:\n",
    "    print(f.read_record())\n",
    "    print(f.read_record())\n",
    "    print(f.read_record())\n",
    "    print(f.read_record())\n",
    "    print(f.read_record())"
   ]
  },
  {
   "cell_type": "code",
   "execution_count": 28,
   "metadata": {},
   "outputs": [
    {
     "name": "stdout",
     "output_type": "stream",
     "text": [
      "ID: >GTD323452,\n",
      " Description: 5S_rRNA NODE_272_length_223_cov_0.720238:18-129(+),\n",
      " Sequence:ACGGCCATAGGACTTTGAAAGCACCGCATCCCGTCCGATCTGCGAAGTTAACCAAGATGCCGCCTGGTTAGTACCATGGTGGGGGACCACATGGGAATCCCTGGTGCTGTG\n",
      "\n",
      "ID: >GTD678345,\n",
      " Description: 16S_rRNA NODE_80_length_720_cov_1.094737:313-719(+),\n",
      " Sequence:TTGGCTTCTTAGAGGGACTTTTGATGTTTAATCAAAGGAAGTTTGAGGCAATAACAGGTCTGTGATGCCCTTAGATGTTCTGGGCCGCACGCGCGCTACACTGAGCCCTTGGGAGTGGTCCATTTGAGCCGGCAACGGCACGTTTGGACTGCAAACTTGGGCAAACTTGGTCATTTAGAGGAAGTAAAAGTCGTAACAAGGT\n",
      "\n",
      "ID: >GTD174893,\n",
      " Description: 16S_rRNA NODE_1_length_2558431_cov_75.185164:2153860-2155398(+),\n",
      " Sequence:TTGAAGAGTTTGATCATGGCTCAGATTGAACGCTGGCGGCAGGCCTAACACATGCAAGTCGAACGGTAACAGGAAACAGCTTGCTGTTTCGCTGACGAGTGGGAAGTAGGTAGCTTAACCTTCGGGAGGGCGCTTACCACTTTGTGATTCATGACTGGGGTGAAGTCGTAACAAGGTAACCGTAGGGGAACCTGCGGTTGGATCACCTCCTT\n",
      "\n",
      "ID: >GTD906783,\n",
      " Description: 16S_rRNA NODE_1_length_2558431_cov_75.185164:793941-795479(-),\n",
      " Sequence:TTGAAGAGTTTGATCATGGCTCAGATTGAACGCTGGCGGCAGGCCTAACACATGCAAGTCGAACGGTAACAGGAAACAGCTTGCTGTTTCGCTGACGAGTGGGAAGTAGGTAGCTTAACCTTCGGGAGGGCGCTTACCACTTTGTGATTCATGACTGGGGTGAAGTCGTAACAAGGTAACCGTAGGGGAACCTGCGGTTGGATCACCTCCTT\n",
      "\n",
      "ID: >GTD129563,\n",
      " Description: 16S_rRNA NODE_4_length_428221_cov_75.638017:281055-282593(-),\n",
      " Sequence:CGGACGGGTGAGTAATGTCTGGGAAACTGCCTGATGGAGGGGGATAACTACTGGAAACGGTAGCTAATACCGCATAACGTCGCAAGACCAAAGAGGGGGACCGAAGTAGGTAGCTTAACCTTCGGGAGGGCGCTTACCACTTTGTGATTCATGACTGGGGTGAAGTCGTAACAAGGTAACCGTAGGGGAACCTGCGGTTGGATCACCTCCTT\n",
      "\n"
     ]
    }
   ],
   "source": [
    "with OpenFasta(\"data/example_fasta.fasta\") as f:\n",
    "    for record in f:\n",
    "        print(record)"
   ]
  },
  {
   "cell_type": "code",
   "execution_count": 29,
   "metadata": {},
   "outputs": [
    {
     "data": {
      "text/plain": [
       "[ID: >GTD323452,\n",
       "  Description: 5S_rRNA NODE_272_length_223_cov_0.720238:18-129(+),\n",
       "  Sequence:ACGGCCATAGGACTTTGAAAGCACCGCATCCCGTCCGATCTGCGAAGTTAACCAAGATGCCGCCTGGTTAGTACCATGGTGGGGGACCACATGGGAATCCCTGGTGCTGTG,\n",
       " ID: >GTD678345,\n",
       "  Description: 16S_rRNA NODE_80_length_720_cov_1.094737:313-719(+),\n",
       "  Sequence:TTGGCTTCTTAGAGGGACTTTTGATGTTTAATCAAAGGAAGTTTGAGGCAATAACAGGTCTGTGATGCCCTTAGATGTTCTGGGCCGCACGCGCGCTACACTGAGCCCTTGGGAGTGGTCCATTTGAGCCGGCAACGGCACGTTTGGACTGCAAACTTGGGCAAACTTGGTCATTTAGAGGAAGTAAAAGTCGTAACAAGGT,\n",
       " ID: >GTD174893,\n",
       "  Description: 16S_rRNA NODE_1_length_2558431_cov_75.185164:2153860-2155398(+),\n",
       "  Sequence:TTGAAGAGTTTGATCATGGCTCAGATTGAACGCTGGCGGCAGGCCTAACACATGCAAGTCGAACGGTAACAGGAAACAGCTTGCTGTTTCGCTGACGAGTGGGAAGTAGGTAGCTTAACCTTCGGGAGGGCGCTTACCACTTTGTGATTCATGACTGGGGTGAAGTCGTAACAAGGTAACCGTAGGGGAACCTGCGGTTGGATCACCTCCTT,\n",
       " ID: >GTD906783,\n",
       "  Description: 16S_rRNA NODE_1_length_2558431_cov_75.185164:793941-795479(-),\n",
       "  Sequence:TTGAAGAGTTTGATCATGGCTCAGATTGAACGCTGGCGGCAGGCCTAACACATGCAAGTCGAACGGTAACAGGAAACAGCTTGCTGTTTCGCTGACGAGTGGGAAGTAGGTAGCTTAACCTTCGGGAGGGCGCTTACCACTTTGTGATTCATGACTGGGGTGAAGTCGTAACAAGGTAACCGTAGGGGAACCTGCGGTTGGATCACCTCCTT,\n",
       " ID: >GTD129563,\n",
       "  Description: 16S_rRNA NODE_4_length_428221_cov_75.638017:281055-282593(-),\n",
       "  Sequence:CGGACGGGTGAGTAATGTCTGGGAAACTGCCTGATGGAGGGGGATAACTACTGGAAACGGTAGCTAATACCGCATAACGTCGCAAGACCAAAGAGGGGGACCGAAGTAGGTAGCTTAACCTTCGGGAGGGCGCTTACCACTTTGTGATTCATGACTGGGGTGAAGTCGTAACAAGGTAACCGTAGGGGAACCTGCGGTTGGATCACCTCCTT]"
      ]
     },
     "execution_count": 29,
     "metadata": {},
     "output_type": "execute_result"
    }
   ],
   "source": [
    "with OpenFasta(\"data/example_fasta.fasta\") as f:\n",
    "    total_fasta = f.read_records()\n",
    "total_fasta"
   ]
  },
  {
   "cell_type": "code",
   "execution_count": 30,
   "metadata": {},
   "outputs": [
    {
     "data": {
      "text/plain": [
       "bio_files_processor.FastaRecord"
      ]
     },
     "execution_count": 30,
     "metadata": {},
     "output_type": "execute_result"
    }
   ],
   "source": [
    "type(total_fasta[0])"
   ]
  },
  {
   "cell_type": "markdown",
   "metadata": {},
   "source": [
    "# run_genscan"
   ]
  },
  {
   "cell_type": "code",
   "execution_count": 31,
   "metadata": {},
   "outputs": [],
   "source": [
    "from bioinf_tools import run_genscan\n",
    "import pandas as pd"
   ]
  },
  {
   "cell_type": "code",
   "execution_count": 32,
   "metadata": {},
   "outputs": [
    {
     "name": "stdout",
     "output_type": "stream",
     "text": [
      "Status: 200 \n",
      "\n",
      "Predicted CDS List:\n",
      "['GENSCAN_predicted_peptide_1', '681_aa'] : MRFVKQYCYGGAAEKGRGFEREQKKMPAVRNPCRIHETLPIAAGGHFALELTTPEQGRDSPDAGRLFCPFGDTSPPLPGPASLKGSPCSCLDAGFFSGSGKPALTPLPRPPSGVLAPEMRRNCEERGSGRFQNSCYPWWGGSGGGIAAGSLAQLHLRIECEGRWRKTLCLGFWQIVFLTATSRGFLRAPGPISIPLPLRGRLPGFALRAPGGAGARRAPSRWFTKCVSEIAGDCPKGQPPATMPLNVSFTNRNYDLDYDSVQPYFYCDEEENFYQQQQQSELQPPAPSEDIWKKFELLPTPPLSPSRRSGLCSPSYVAVTPFSLRGDNDGGGGSFSTADQLEMVTELLGGDMVNQSFICDPDDETFIKNIIIQDCMWSGFSAAAKLVSEKLASYQAARKDSGSPNPARGHSVCSTSSLYLQDLSAAASECIDPSVVFPYPLNDSSSPKSCASQDSSAFSPSSDSLLSSTESSPQGSPEPLVLHEETPPTTSSDSEEEQEDEEEIDVVSVEKRQAPGKRSESGSPSAGGHSKPPHSPLVLKRCHVSTHQHNYAAPPSTRKDYPAAKRVKLDSVRVLRQISNNRKCTSPRSSDTEENVKRRTHNVLERQRRNELKRSFFALRDQIPELENNEKAPKVVILKKATAYILSVQAEEQKLISEEDLLRKRREQLKHKLEQLRNSCA\n",
      "\n",
      "Exon List:\n",
      "  number  type  start   end\n",
      "0   1.01  Init    366   443\n",
      "1   1.02  Intr   1002  1230\n",
      "2   1.03  Intr   1976  2156\n",
      "3   1.04  Intr   2461  2683\n",
      "4   1.05  Intr   2855  3626\n",
      "5   1.06  Term   5003  5565\n",
      "6   1.07  PlyA   5860  5865\n",
      "\n",
      "Intron List:\n",
      "      number    type  start   end\n",
      "0   1 - 1.01  Intron      1   365\n",
      "1  1.01-1.02  Intron    444  1001\n",
      "2  1.02-1.03  Intron   1231  1975\n",
      "3  1.03-1.04  Intron   2157  2460\n",
      "4  1.04-1.05  Intron   2684  2854\n",
      "5  1.05-1.06  Intron   3627  5002\n",
      "6  1.06-1.07  Intron   5566  5859\n",
      "7   1.07-end  Intron   5866  7558\n"
     ]
    }
   ],
   "source": [
    "file = \"data/example_gene_for_genscan.fna\"\n",
    "\n",
    "output = run_genscan(sequence_file=file)\n",
    "\n",
    "print(\"Status:\", output.status, \"\\n\")\n",
    "print(\"Predicted CDS List:\")\n",
    "print(output.cds_list[0][\"peptide\"], \":\", output.cds_list[0][\"sequence\"])\n",
    "\n",
    "exon_df = pd.DataFrame(output.exon_list)\n",
    "print(\"\\nExon List:\")\n",
    "print(exon_df)\n",
    "\n",
    "intron_df = pd.DataFrame(output.intron_list)\n",
    "print(\"\\nIntron List:\")\n",
    "print(intron_df)"
   ]
  },
  {
   "cell_type": "markdown",
   "metadata": {},
   "source": [
    "# AminoAcidSequence / DNASequence / RNASequence"
   ]
  },
  {
   "cell_type": "code",
   "execution_count": 33,
   "metadata": {},
   "outputs": [],
   "source": [
    "from bioinf_tools import AminoAcidSequence, DNASequence, RNASequence"
   ]
  },
  {
   "cell_type": "code",
   "execution_count": 34,
   "metadata": {},
   "outputs": [
    {
     "data": {
      "text/plain": [
       "NucleicAcid(sequence=UACG)"
      ]
     },
     "execution_count": 34,
     "metadata": {},
     "output_type": "execute_result"
    }
   ],
   "source": [
    "rna_seq = RNASequence(\"AUGC\")\n",
    "rna_seq.complement()"
   ]
  },
  {
   "cell_type": "code",
   "execution_count": 35,
   "metadata": {},
   "outputs": [
    {
     "name": "stdout",
     "output_type": "stream",
     "text": [
      "True\n"
     ]
    },
    {
     "data": {
      "text/plain": [
       "{'C': 1, 'A': 1, 'S': 2, 'Q': 1, 'D': 1, 'T': 1, 'E': 1, 'V': 1, 'F': 2}"
      ]
     },
     "execution_count": 35,
     "metadata": {},
     "output_type": "execute_result"
    }
   ],
   "source": [
    "aa_seq = AminoAcidSequence(\"CASSQDTEVFF\")\n",
    "print(aa_seq.is_valid_alphabet())\n",
    "aa_seq.calculate_aa_freq()"
   ]
  },
  {
   "cell_type": "code",
   "execution_count": 36,
   "metadata": {},
   "outputs": [
    {
     "name": "stdout",
     "output_type": "stream",
     "text": [
      "AUGCCGUA\n"
     ]
    },
    {
     "data": {
      "text/plain": [
       "bioinf_tools.RNASequence"
      ]
     },
     "execution_count": 36,
     "metadata": {},
     "output_type": "execute_result"
    }
   ],
   "source": [
    "dna_seq = DNASequence(\"ATGCCGTA\")\n",
    "print(dna_seq.transcribe())\n",
    "\n",
    "type(dna_seq.transcribe())"
   ]
  },
  {
   "cell_type": "code",
   "execution_count": 37,
   "metadata": {},
   "outputs": [
    {
     "name": "stdout",
     "output_type": "stream",
     "text": [
      "AUGCCGUA\n"
     ]
    },
    {
     "data": {
      "text/plain": [
       "bioinf_tools.RNASequence"
      ]
     },
     "execution_count": 37,
     "metadata": {},
     "output_type": "execute_result"
    }
   ],
   "source": [
    "dna_seq = DNASequence(\"ATGCCGTA\")\n",
    "print(dna_seq.transcribe())\n",
    "\n",
    "type(dna_seq.transcribe())"
   ]
  }
 ],
 "metadata": {
  "kernelspec": {
   "display_name": "ibvaulin",
   "language": "python",
   "name": "python3"
  },
  "language_info": {
   "codemirror_mode": {
    "name": "ipython",
    "version": 3
   },
   "file_extension": ".py",
   "mimetype": "text/x-python",
   "name": "python",
   "nbconvert_exporter": "python",
   "pygments_lexer": "ipython3",
   "version": "3.11.5"
  }
 },
 "nbformat": 4,
 "nbformat_minor": 2
}
